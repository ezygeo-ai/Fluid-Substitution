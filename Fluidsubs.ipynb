{
 "cells": [
  {
   "cell_type": "markdown",
   "metadata": {},
   "source": [
    "<img src=\"img/noback.png\" height=20% width=20%>"
   ]
  },
  {
   "cell_type": "markdown",
   "metadata": {},
   "source": [
    "# Gassman Fluid Substitution\n",
    "Predict the changes of P Wave velocity, when one fluid is replaced with another.  \n",
    "Copyright (C) 2020 ezygeo.com, Hadyan Pratama (hadyan_pratama@rocketmail.com)\n",
    "\n"
   ]
  },
  {
   "cell_type": "markdown",
   "metadata": {},
   "source": [
    "## Import Library "
   ]
  },
  {
   "cell_type": "code",
   "execution_count": 29,
   "metadata": {},
   "outputs": [],
   "source": [
    "import numpy as np"
   ]
  },
  {
   "cell_type": "markdown",
   "metadata": {},
   "source": [
    "## Define Formula "
   ]
  },
  {
   "cell_type": "markdown",
   "metadata": {},
   "source": [
    "#### 1. K Saturated Initial"
   ]
  },
  {
   "cell_type": "markdown",
   "metadata": {},
   "source": [
    "_Biot (1956)_"
   ]
  },
  {
   "cell_type": "markdown",
   "metadata": {},
   "source": [
    "<img src=\"img/biot.png\" height=50% width=50%>"
   ]
  },
  {
   "cell_type": "code",
   "execution_count": 30,
   "metadata": {},
   "outputs": [],
   "source": [
    "def msat(vs, rho):\n",
    "    '''\n",
    "    Miu saturated (C) hpratama 2020\n",
    "    \n",
    "    Input:\n",
    "    vs = Shear Velocity (Km/s)\n",
    "    rho = Density (g/cc)\n",
    "  \n",
    "    '''\n",
    "    return rho*(vs**2)"
   ]
  },
  {
   "cell_type": "code",
   "execution_count": 31,
   "metadata": {},
   "outputs": [],
   "source": [
    "def ksat1(vp, vs, rho):\n",
    "    '''\n",
    "    K saturated (C) hpratama 2020\n",
    "    \n",
    "    Input:\n",
    "    vp = P wave velocity (Km/s)\n",
    "    vs = Shear wave Velocity (Km/s)\n",
    "    rho = Density (g/cc)\n",
    "  \n",
    "    '''\n",
    "    Ksat1 = ((vp**2)*rho) - 4/3*(msat(vs, rho))\n",
    "    return np.round(Ksat1, 3)"
   ]
  },
  {
   "cell_type": "markdown",
   "metadata": {},
   "source": [
    "#### 2. K Fluid "
   ]
  },
  {
   "cell_type": "markdown",
   "metadata": {},
   "source": [
    "_Batzle and Wang, 1992_"
   ]
  },
  {
   "cell_type": "markdown",
   "metadata": {},
   "source": [
    "<img src=\"img/batzleandwang.png\" height=40% width=40%>"
   ]
  },
  {
   "cell_type": "code",
   "execution_count": 32,
   "metadata": {},
   "outputs": [],
   "source": [
    "def kfl(sw, khc, kw):\n",
    "    '''\n",
    "    K Fluid (C) hpratama 2020\n",
    "    \n",
    "    Input:\n",
    "    sw = Water Saturation\n",
    "    khc = K Hydrocarbon\n",
    "    kw = K Water\n",
    "    \n",
    "    '''\n",
    "    kfl = ((sw/kw) + ((1-sw)/khc))**-1\n",
    "    return np.round(kfl, 3)"
   ]
  },
  {
   "cell_type": "markdown",
   "metadata": {},
   "source": [
    "#### 3. K Mineral"
   ]
  },
  {
   "cell_type": "markdown",
   "metadata": {},
   "source": [
    "_Voight-Reuss-Hill Average_"
   ]
  },
  {
   "cell_type": "markdown",
   "metadata": {},
   "source": [
    "<img src=\"img/voightreusshill.png\" height=50% width=50%>"
   ]
  },
  {
   "cell_type": "code",
   "execution_count": 47,
   "metadata": {},
   "outputs": [],
   "source": [
    "def km(por, fq, fc, kq, kc):\n",
    "    '''\n",
    "    K mineral (K0) (C) hpratama 2020\n",
    "    \n",
    "    Input:\n",
    "    por = Porosity\n",
    "    fq = Quartz Fraction\n",
    "    fc = Calcite Fraction\n",
    "    kq = Quarzt Bulk\n",
    "    kc = Calcite Bulk\n",
    "    \n",
    "    '''\n",
    "    kv = ((fq)*kq) + ((fc)*kc) \n",
    "    \n",
    "    kr = (((fq)/kq) + ((fc)/kc))**(-1)\n",
    "    \n",
    "    km = (kv + kr)/2\n",
    "    \n",
    "    return np.round(km, 3)\n"
   ]
  },
  {
   "cell_type": "markdown",
   "metadata": {},
   "source": [
    "#### 4. K Saturated Final "
   ]
  },
  {
   "cell_type": "markdown",
   "metadata": {},
   "source": [
    "_Mavko et al._"
   ]
  },
  {
   "cell_type": "markdown",
   "metadata": {},
   "source": [
    "<img src=\"img/mavko.png\" height=50% width=50%>"
   ]
  },
  {
   "cell_type": "code",
   "execution_count": 48,
   "metadata": {},
   "outputs": [],
   "source": [
    "def ksat2(ksat1, k0, kfl1, kfl2, por):\n",
    "    '''\n",
    "    K Saturation after fluid substitution (C) hpratama 2020\n",
    "    \n",
    "    Input:\n",
    "    ksat1 = K Saturation before Fluid Substitution\n",
    "    k0 = K Mineral\n",
    "    kfl1 = K Fluid before Substitution\n",
    "    kfl2 = K Fluid after Substitution\n",
    "    por = Porosity\n",
    "    \n",
    "    '''\n",
    "    a = (ksat1/(k0 - ksat1)) - (kfl1/(por*(k0 - kfl1))) + (kfl2/(por*(k0 - kfl2)))\n",
    "    ksat2 = (a*(k0))/(1+a)\n",
    "    return np.round(ksat2, 3)"
   ]
  },
  {
   "cell_type": "markdown",
   "metadata": {},
   "source": [
    "#### 5. Vp "
   ]
  },
  {
   "cell_type": "markdown",
   "metadata": {},
   "source": [
    "<img src=\"img/rho_2.png\" height=50% width=50%>"
   ]
  },
  {
   "cell_type": "code",
   "execution_count": 49,
   "metadata": {},
   "outputs": [],
   "source": [
    "def rhofluid(sw, so, rhoo, rhow):\n",
    "    \n",
    "    rho1 = ((1-so) * rhow) + (so * rhoo)\n",
    "    rho2 = ((sw) * rhow) + ((1 - sw) * rhoo)\n",
    "    rho1 = np.round(rho1, 3)\n",
    "    rho2 = np.round(rho2, 3)    \n",
    "    return rho1, rho2"
   ]
  },
  {
   "cell_type": "code",
   "execution_count": 50,
   "metadata": {},
   "outputs": [],
   "source": [
    "def rhosat(rho, por, rhow, sw, so, rhoo):\n",
    "    rho1, rho2 = rhofluid(sw, so, rhoo, rhow)\n",
    "    \n",
    "    rhosat = rho+(por*(rho2 - rho1))\n",
    "    return np.round(rhosat, 3)"
   ]
  },
  {
   "cell_type": "code",
   "execution_count": 51,
   "metadata": {},
   "outputs": [],
   "source": [
    "def vp(ksat2, vs, rhosat):\n",
    "    vp = ((ksat2 + (4/3*(msat(vs, rhosat)))) / (rhosat))**0.5\n",
    "    return np.round(vp, 3)"
   ]
  },
  {
   "cell_type": "markdown",
   "metadata": {},
   "source": [
    "## Data"
   ]
  },
  {
   "cell_type": "code",
   "execution_count": 52,
   "metadata": {},
   "outputs": [],
   "source": [
    "Vp = 3.349\n",
    "Vs = 1.836\n",
    "\n",
    "Sw = 1\n",
    "So = 0.7\n",
    "\n",
    "Por = 0.3\n",
    "\n",
    "Fq = 0.7\n",
    "Fc = 0.3\n",
    "Kq = 36\n",
    "Kc = 75\n",
    "Ko = 1.6\n",
    "Kw = 2.83\n",
    "\n",
    "Rho = 2.13\n",
    "Rhoo = 0.8\n",
    "Rhow = 1"
   ]
  },
  {
   "cell_type": "markdown",
   "metadata": {},
   "source": [
    "## Calculate "
   ]
  },
  {
   "cell_type": "markdown",
   "metadata": {},
   "source": [
    "To get new value of Vp, there is some variable that need to calculate.\n",
    "\n",
    "* First we need to calculate K saturation before fluid subtitution. This K saturartion could be calculated from the old "
   ]
  },
  {
   "cell_type": "code",
   "execution_count": 53,
   "metadata": {},
   "outputs": [],
   "source": [
    "Ksat1 = ksat1(Vp, Vs, Rho)"
   ]
  },
  {
   "cell_type": "markdown",
   "metadata": {},
   "source": [
    "* Then, we estimate the K fluid before and after fluid substitution"
   ]
  },
  {
   "cell_type": "code",
   "execution_count": 54,
   "metadata": {},
   "outputs": [],
   "source": [
    "Kfl1 = kfl((1-So), Ko, Kw)\n",
    "Kfl2 = kfl(Sw, Ko, Kw)"
   ]
  },
  {
   "cell_type": "markdown",
   "metadata": {},
   "source": [
    "* After that, we evaluate K Mineral that can be estimate from Hill formula, this formula need Voight-Reuss Bounds calculation too. First we need to calculate K saturation before fluid subtitution."
   ]
  },
  {
   "cell_type": "code",
   "execution_count": 55,
   "metadata": {},
   "outputs": [
    {
     "name": "stdout",
     "output_type": "stream",
     "text": [
      "45.177\n"
     ]
    }
   ],
   "source": [
    "K0 = km(Por, Fq, Fc, Kq, Kc)\n",
    "print(K0)"
   ]
  },
  {
   "cell_type": "markdown",
   "metadata": {},
   "source": [
    "* Here we calculate K saturated after fluid substitution"
   ]
  },
  {
   "cell_type": "code",
   "execution_count": 56,
   "metadata": {},
   "outputs": [],
   "source": [
    "Ksat2 = ksat2(Ksat1, K0, Kfl1, Kfl2, 0.3)"
   ]
  },
  {
   "cell_type": "markdown",
   "metadata": {},
   "source": [
    "* To calculate the new Vp, we need to calculate density saturation. After that we estimate new Vp with new K saturated after fluid substitution"
   ]
  },
  {
   "cell_type": "code",
   "execution_count": 57,
   "metadata": {},
   "outputs": [],
   "source": [
    "Rhosat = rhosat(Rho, Por, Rhow, Sw, So, Rhoo)"
   ]
  },
  {
   "cell_type": "code",
   "execution_count": 58,
   "metadata": {},
   "outputs": [],
   "source": [
    "Vp = vp(Ksat2, Vs, Rhosat)"
   ]
  },
  {
   "cell_type": "code",
   "execution_count": 59,
   "metadata": {},
   "outputs": [
    {
     "name": "stdout",
     "output_type": "stream",
     "text": [
      "3.44\n"
     ]
    }
   ],
   "source": [
    "print(Vp)"
   ]
  },
  {
   "cell_type": "markdown",
   "metadata": {},
   "source": [
    "Done"
   ]
  }
 ],
 "metadata": {
  "kernelspec": {
   "display_name": "Python 3",
   "language": "python",
   "name": "python3"
  },
  "language_info": {
   "codemirror_mode": {
    "name": "ipython",
    "version": 3
   },
   "file_extension": ".py",
   "mimetype": "text/x-python",
   "name": "python",
   "nbconvert_exporter": "python",
   "pygments_lexer": "ipython3",
   "version": "3.7.3"
  }
 },
 "nbformat": 4,
 "nbformat_minor": 2
}
